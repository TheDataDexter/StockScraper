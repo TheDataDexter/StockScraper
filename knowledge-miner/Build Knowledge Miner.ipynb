{
 "cells": [
  {
   "cell_type": "markdown",
   "metadata": {},
   "source": [
    "## Getting Started\n",
    "\n",
    "Make sure to install the following pip packages:\n",
    "- pip install azure-search-documents=11.2.0\n",
    "- pip install azure-core=1.19.0\n",
    "- pip install PyYAML==5.4.1"
   ]
  },
  {
   "cell_type": "markdown",
   "metadata": {},
   "source": [
    "### Import Libraries"
   ]
  },
  {
   "cell_type": "code",
   "execution_count": 36,
   "metadata": {},
   "outputs": [],
   "source": [
    "import yaml\n",
    "from azure.core.credentials import AzureKeyCredential\n",
    "from azure.search.documents import SearchClient"
   ]
  },
  {
   "cell_type": "markdown",
   "metadata": {},
   "source": [
    "### Load secrets"
   ]
  },
  {
   "cell_type": "code",
   "execution_count": 37,
   "metadata": {},
   "outputs": [],
   "source": [
    "full_file_path = \"../config/secrets.yaml\"\n",
    "with open(full_file_path) as settings:\n",
    "    secrets = yaml.load(settings, Loader=yaml.Loader)"
   ]
  },
  {
   "cell_type": "code",
   "execution_count": 39,
   "metadata": {},
   "outputs": [],
   "source": [
    "# retrieve cognitive services properties\n",
    "cs_endpoint = secrets[\"cognitive-services\"][\"endpoint\"]\n",
    "cs_location = secrets[\"cognitive-services\"][\"location\"]\n",
    "cs_key = secrets[\"cognitive-services\"][\"key\"]\n",
    "# retrieve storage account properties\n",
    "sa_name = secrets[\"storage-account\"][\"name\"]\n",
    "sa_connection_string = secrets[\"storage-account\"][\"connection-string\"]\n",
    "sa_key = secrets[\"storage-account\"][\"key\"]\n",
    "# search\n",
    "search_endpoint = secrets[\"cognitive-search\"][\"endpoint\"]\n",
    "search_key = secrets[\"cognitive-search\"][\"key\"]"
   ]
  },
  {
   "cell_type": "markdown",
   "metadata": {},
   "source": [
    "### Build Search Engine"
   ]
  },
  {
   "cell_type": "code",
   "execution_count": null,
   "metadata": {},
   "outputs": [],
   "source": [
    "# index_name = \"stock_index\"\n",
    "# # Create a client\n",
    "# credential = AzureKeyCredential(key)\n",
    "# client = SearchClient(\n",
    "#     endpoint=endpoint,\n",
    "#     index_name=index_name,\n",
    "#     credential=credential\n",
    "# )"
   ]
  },
  {
   "cell_type": "markdown",
   "metadata": {},
   "source": [
    "### To-Dos\n",
    "- [Upload data vanuit blob storage](https://docs.microsoft.com/en-us/rest/api/searchservice/addupdate-or-delete-documents)\n",
    "- [Welke skill is handig om hieraan toe te voegen](https://docs.microsoft.com/en-us/rest/api/searchservice/skillset-operations)\n",
    "- Finish "
   ]
  }
 ],
 "metadata": {
  "kernelspec": {
   "display_name": "Python 3",
   "language": "python",
   "name": "python3"
  },
  "language_info": {
   "codemirror_mode": {
    "name": "ipython",
    "version": 3
   },
   "file_extension": ".py",
   "mimetype": "text/x-python",
   "name": "python",
   "nbconvert_exporter": "python",
   "pygments_lexer": "ipython3",
   "version": "3.7.4"
  }
 },
 "nbformat": 4,
 "nbformat_minor": 2
}
